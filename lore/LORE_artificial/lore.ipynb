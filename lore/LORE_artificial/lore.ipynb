{
 "cells": [
  {
   "cell_type": "code",
   "execution_count": 2,
   "metadata": {},
   "outputs": [],
   "source": [
    "import os\n",
    "import re\n",
    "import subprocess\n",
    "import json"
   ]
  },
  {
   "cell_type": "code",
   "execution_count": 3,
   "metadata": {},
   "outputs": [],
   "source": [
    "with open(\"benchmark_list\", 'r') as f:\n",
    "    files = f.read().split()\n",
    "\n",
    "for file in files:\n",
    "    # print(file)\n",
    "    with open(f'./{file}', 'r') as f:\n",
    "        lines = f.readlines()\n",
    "    \n",
    "    params = {}\n",
    "    kernel_name = ''\n",
    "    header_lines = ['/* params start */\\n', '#define ITERATIONS 10000\\n']\n",
    "    i = 0\n",
    "    print_start = 0\n",
    "    param_start = -1\n",
    "    while i < len(lines):\n",
    "        if '/* start param define */' in lines[i]:\n",
    "            lines[i:i] = ['#include <omp.h>\\n', '#define ceild(n,d)  ceil(((double)(n))/((double)(d)))\\n', '#define floord(n,d) floor(((double)(n))/((double)(d)))\\n', '#define max(x,y) ((x) > (y)? (x) : (y))\\n', '#define min(x,y) ((x) < (y)? (x) : (y))\\n', '\\n']\n",
    "            i += 6\n",
    "            param_start = i\n",
    "        elif param_start + 1 and 'end parameters define' in lines[i]:\n",
    "            k = 0\n",
    "            for j in range(param_start + 1, i):\n",
    "                # print(lines[j])\n",
    "                output = re.search(r'#\\s*define\\s+([0-9a-zA-Z_]+)\\s+(\\d+\\.\\d+|\\d+)', lines[j])\n",
    "                # print(output.group(2))\n",
    "                params[output.group(1)] = int(output.group(2))\n",
    "                k += 1\n",
    "            param_start = -1\n",
    "        elif f'/* start kernel func */' in lines[i]:\n",
    "            kernel_name = re.search(r'void\\s([a-zA-z_0-9]+)\\(', lines[i+1]).group(1)\n",
    "            # print(kernel_name)\n",
    "            header_params = re.findall(r'int ([^,\\)]+)', lines[i+1])\n",
    "            # print(header_params)\n",
    "            i += 1\n",
    "        elif '#pragma scop' in lines[i]:\n",
    "            lines.insert(i, '    double time_start = omp_get_wtime();\\n')\n",
    "            i += 1\n",
    "        elif '#pragma endscop' in lines[i]:\n",
    "            lines.insert(i + 1, '    printf(\"%f\\\\n\", time_end - time_start);\\n')\n",
    "            lines.insert(i + 1, '    double time_end = omp_get_wtime();\\n')\n",
    "            i += 2\n",
    "        elif kernel_name and kernel_name in lines[i]:\n",
    "            output = re.search(r'\\((.*)\\)', lines[i])\n",
    "            kernel_params = output.group(1).split(', ')\n",
    "            for j in range(len(header_params)):\n",
    "                header_lines.append(f'#define {header_params[j]} {params[kernel_params[-len(header_params) + j]]}\\n')\n",
    "               \n",
    "        i += 1\n",
    "    \n",
    "    # print(params)\n",
    "    \n",
    "    \n",
    "    header_lines.append('/* params end */\\n')\n",
    "    # print(\"\".join(header_lines))\n",
    "    with open(f'./{file[:-2]}.check.h', 'w') as f:\n",
    "        f.writelines(header_lines)\n",
    "    \n",
    "    # print(\"\".join(lines))\n",
    "    with open(f'./{file[:-2]}.check.c', 'w') as f:\n",
    "        f.writelines(lines)"
   ]
  },
  {
   "cell_type": "code",
   "execution_count": 62,
   "metadata": {},
   "outputs": [],
   "source": [
    "with open(\"benchmark_list\", 'r') as f:\n",
    "    files = f.read().split()\n",
    "\n",
    "for file in files:\n",
    "    os.remove(f'{file[:-2]}.check.h')"
   ]
  },
  {
   "cell_type": "code",
   "execution_count": 52,
   "metadata": {},
   "outputs": [],
   "source": [
    "with open(\"benchmark_list\", 'r') as f:\n",
    "    files = f.read().split()\n",
    "\n",
    "for file in files:\n",
    "    # print(file)\n",
    "    with open(f'./{file}', 'r') as f:\n",
    "        lines = f.readlines()\n",
    "    \n",
    "    add = 0\n",
    "    i = 0\n",
    "    while i < len(lines):\n",
    "        if '#pragma scop' in lines[i] and not lines[i+1] == \"for (int iter = 0; iter < ITERATIONS; iter++){\\n\":\n",
    "            lines.insert(i+1, 'for (int iter = 0; iter < ITERATIONS; iter++){\\n')\n",
    "            add = 1\n",
    "            i += 1\n",
    "        elif '#pragma endscop' in lines[i] and add:\n",
    "            lines.insert(i, '}\\n')\n",
    "            break\n",
    "\n",
    "               \n",
    "        i += 1\n",
    "    \n",
    "    \n",
    "    # print(\"\".join(lines))\n",
    "    with open(f'{file}', 'w') as f:\n",
    "        f.writelines(lines)"
   ]
  },
  {
   "cell_type": "code",
   "execution_count": null,
   "metadata": {},
   "outputs": [],
   "source": []
  }
 ],
 "metadata": {
  "kernelspec": {
   "display_name": "Python 3",
   "language": "python",
   "name": "python3"
  },
  "language_info": {
   "codemirror_mode": {
    "name": "ipython",
    "version": 3
   },
   "file_extension": ".py",
   "mimetype": "text/x-python",
   "name": "python",
   "nbconvert_exporter": "python",
   "pygments_lexer": "ipython3",
   "version": "3.8.10"
  }
 },
 "nbformat": 4,
 "nbformat_minor": 2
}
